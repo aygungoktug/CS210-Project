{
 "cells": [
  {
   "cell_type": "code",
   "execution_count": null,
   "metadata": {},
   "outputs": [],
   "source": [
    "from matplotlib.ticker import MultipleLocator\n",
    "from matplotlib.ticker import MaxNLocator\n",
    "\n",
    "from parse_names import beautify_string\n",
    "from matplotlib.axis import Axis\n",
    "import matplotlib.ticker as ticker\n",
    "import matplotlib.pyplot as plt\n",
    "import pandas as pd"
   ]
  },
  {
   "attachments": {},
   "cell_type": "markdown",
   "metadata": {},
   "source": [
    "Chart 1\n",
    "This cell block creates a line chart. It can create the chart combining as many cities as the user wants. "
   ]
  },
  {
   "cell_type": "code",
   "execution_count": null,
   "metadata": {},
   "outputs": [],
   "source": [
    "city_list = []\n",
    "fig, ax = plt.subplots()\n",
    "while True:\n",
    "    user_input = input(\"Which city would you like to see about? \").lower().strip()\n",
    "    city_list.append(user_input)\n",
    "    user_input = beautify_string(user_input)\n",
    "    name = \"\"\n",
    "    for i in user_input:\n",
    "        if ord(i) in range(256):\n",
    "            name += i\n",
    "    user_input = name\n",
    "    if user_input == \"exit\":\n",
    "        break\n",
    "    infile = \"city info/formatted/\" + user_input + \".csv\"\n",
    "    \n",
    "\n",
    "    df = pd.read_csv(infile)\n",
    "    ax.plot(df['Year'], df['Female MP Count'])\n",
    "    ax.grid(alpha = 0.8)\n",
    "    ax.yaxis.set_major_locator(MaxNLocator(integer=True))\n",
    "\n",
    "if len(city_list) != 0:    \n",
    "    plt.title(\"Female MP's Over Time\")\n",
    "    plt.xlabel(\"Years\")\n",
    "    plt.ylabel(\"MP Count\")\n",
    "    plt.legend(city_list, loc = 'upper left', fontsize = 15)\n",
    "    plt.show()\n",
    "else:\n",
    "    print(\"You have not given any cities.\")"
   ]
  },
  {
   "attachments": {},
   "cell_type": "markdown",
   "metadata": {},
   "source": [
    "Chart 2\n",
    "This cell block creates a stacked bar chart. It can create the chart for only one city and returns a chart that shows the numbers of male and female MP's for all the assemblies. "
   ]
  },
  {
   "cell_type": "code",
   "execution_count": null,
   "metadata": {},
   "outputs": [],
   "source": [
    "while True:\n",
    "    user_input = input(\"Which city would you like to see about? \").lower().strip()\n",
    "    user_input = beautify_string(user_input)\n",
    "    name = \"\"\n",
    "    for i in user_input:\n",
    "        if ord(i) in range(256):\n",
    "            name += i\n",
    "    user_input = name\n",
    "    if user_input == \"exit\":\n",
    "        break\n",
    "    infile = \"city info/formatted/\" + user_input + \".csv\"\n",
    "    \n",
    "    try:\n",
    "        df = pd.read_csv(infile)\n",
    "        ax = df.plot.bar(x='Year', y = ['Female MP Count', 'Male MP Count'], stacked=True, title='Count of MP\\'s Over Time')\n",
    "        break\n",
    "    except:\n",
    "        print(\"Invalid city name. Please check your input format.\")\n",
    "\n",
    "ax.grid(axis='y', alpha = 0.8)\n",
    "ax.yaxis.set_major_locator(MaxNLocator(integer=True))\n",
    "plt.xlabel(\"Years\")\n",
    "plt.ylabel(\"MP Count\")\n",
    "plt.show()"
   ]
  },
  {
   "attachments": {},
   "cell_type": "markdown",
   "metadata": {},
   "source": [
    "Chart 3\n",
    "This cell block creates a pie chart. It can create the chart for only one city and only one term. Returns a chart that shows the distribution of male and female MP's for the assembly with the given number. "
   ]
  },
  {
   "cell_type": "code",
   "execution_count": null,
   "metadata": {},
   "outputs": [],
   "source": [
    "def my_autopct(pct):\n",
    "        if pct > 0:\n",
    "            return '{:.2f}%'.format(pct)\n",
    "        else:\n",
    "            return ''\n",
    "        \n",
    "city_list = []\n",
    "fig, ax = plt.subplots()\n",
    "while True:\n",
    "    user_input = input(\"Which city would you like to see about? \").lower().strip() #sehrin gecerliligini kontrol et\n",
    "    city_list.append(user_input)\n",
    "    user_input = beautify_string(user_input)\n",
    "    name = \"\"\n",
    "    for i in user_input:\n",
    "        if ord(i) in range(256):\n",
    "            name += i\n",
    "    user_input = name\n",
    "    if user_input == \"exit\":\n",
    "        break\n",
    "    infile = \"city info/formatted/\" + user_input + \".csv\"\n",
    "    query = int(input(\"Which assembly would you like to learn about? \")) #sayı girene kadar tekrar iste\n",
    "    try:\n",
    "        df = pd.read_csv(infile)\n",
    "        ax = df.iloc[query-1]\n",
    "        break\n",
    "    except:\n",
    "        print(\"Invalid city name. Please check your input format.\")\n",
    "Female = ax['Female MP Count']\n",
    "Male = ax['Male MP Count']\n",
    "plt.pie([Female, Male], autopct=my_autopct)\n",
    "plt.title(\"Distribution of Male and Female MP's in Assembly No {}\".format(query))\n",
    "plt.legend([\"Female Count\", \"Male Count\"])\n",
    "plt.show()"
   ]
  }
 ],
 "metadata": {
  "language_info": {
   "name": "python"
  },
  "orig_nbformat": 4
 },
 "nbformat": 4,
 "nbformat_minor": 2
}
